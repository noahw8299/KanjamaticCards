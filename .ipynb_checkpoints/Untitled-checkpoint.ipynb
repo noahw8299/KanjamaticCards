{
 "cells": [
  {
   "cell_type": "code",
   "execution_count": 1,
   "id": "cebdd525-6de8-430a-aab7-ba7f2f3148a1",
   "metadata": {},
   "outputs": [],
   "source": [
    "import pandas as pd\n",
    "import wanikani_api.client as client"
   ]
  },
  {
   "cell_type": "code",
   "execution_count": 2,
   "id": "82a84cd0-ce8f-44b3-b11b-f3c8a015a0cb",
   "metadata": {},
   "outputs": [],
   "source": [
    "api_key = \"eae4dc26-0138-4565-a8c6-4d6761a69248\"\n",
    "wk_api = client.Client(api_key)"
   ]
  },
  {
   "cell_type": "code",
   "execution_count": 267,
   "id": "11138214-59b0-4e5c-8418-f7c6f54c319a",
   "metadata": {},
   "outputs": [
    {
     "data": {
      "text/plain": [
       "<wanikani_api.models.Vocabulary at 0x13ce7beb0>"
      ]
     },
     "execution_count": 267,
     "metadata": {},
     "output_type": "execute_result"
    }
   ],
   "source": [
    "levels = [1, 2, 3, 4, 5, 6, 7, 8, 9, 10]\n",
    "vocabulary = wk_api.subjects(types=\"vocabulary\", levels = levels, fetch_all=True)\n",
    "\n",
    "vocab = vocabulary[10]\n",
    "vocab"
   ]
  },
  {
   "cell_type": "code",
   "execution_count": 4,
   "id": "a9841dde-28ef-4a18-8439-c0d5f0f95242",
   "metadata": {},
   "outputs": [
    {
     "data": {
      "text/plain": [
       "'一人でカラオケにいきました。'"
      ]
     },
     "execution_count": 4,
     "metadata": {},
     "output_type": "execute_result"
    }
   ],
   "source": [
    "vocab.characters                      # returns kanji\n",
    "vocab.auxiliary_meanings[0].meaning   # returns auxiliary meaning\n",
    "vocab.meanings[0].meaning             # returns primary meaning\n",
    "vocab.readings[0].reading             # returns hiragana reading\n",
    "vocab.context_sentences[0].english    # returns context setences in english\n",
    "vocab.context_sentences[0].japanese   # returns context setences in japanese"
   ]
  },
  {
   "cell_type": "code",
   "execution_count": 268,
   "id": "0892c0c2-f814-4f48-8f8d-479f5719083c",
   "metadata": {},
   "outputs": [],
   "source": [
    "columns = ['vocabulary', 'vocab_furigana', 'meaning', 'context_sentence', 'contenxt_setence_meaning']"
   ]
  },
  {
   "cell_type": "code",
   "execution_count": 269,
   "id": "c71d4003-2ceb-4b55-ba9b-499bded04490",
   "metadata": {},
   "outputs": [],
   "source": [
    "data = []\n",
    "\n",
    "for vocab in vocabulary:\n",
    "    info = [vocab.characters, vocab.readings[0].reading, vocab.meanings[0].meaning, vocab.context_sentences[0].japanese, vocab.context_sentences[0].english]\n",
    "\n",
    "    data.append(info)"
   ]
  },
  {
   "cell_type": "code",
   "execution_count": 270,
   "id": "7a312a42-2182-444f-bb3e-b935fac54b42",
   "metadata": {},
   "outputs": [
    {
     "data": {
      "text/html": [
       "<div>\n",
       "<style scoped>\n",
       "    .dataframe tbody tr th:only-of-type {\n",
       "        vertical-align: middle;\n",
       "    }\n",
       "\n",
       "    .dataframe tbody tr th {\n",
       "        vertical-align: top;\n",
       "    }\n",
       "\n",
       "    .dataframe thead th {\n",
       "        text-align: right;\n",
       "    }\n",
       "</style>\n",
       "<table border=\"1\" class=\"dataframe\">\n",
       "  <thead>\n",
       "    <tr style=\"text-align: right;\">\n",
       "      <th></th>\n",
       "      <th>vocabulary</th>\n",
       "      <th>vocab_furigana</th>\n",
       "      <th>meaning</th>\n",
       "      <th>context_sentence</th>\n",
       "      <th>contenxt_setence_meaning</th>\n",
       "    </tr>\n",
       "  </thead>\n",
       "  <tbody>\n",
       "    <tr>\n",
       "      <th>0</th>\n",
       "      <td>一</td>\n",
       "      <td>いち</td>\n",
       "      <td>One</td>\n",
       "      <td>このレモン、一キログラム！？大きいですね！</td>\n",
       "      <td>This lemon weighs a kilogram!? That's big!</td>\n",
       "    </tr>\n",
       "    <tr>\n",
       "      <th>1</th>\n",
       "      <td>一つ</td>\n",
       "      <td>ひとつ</td>\n",
       "      <td>One Thing</td>\n",
       "      <td>レモン、一つ下さい。</td>\n",
       "      <td>A lemon, please.</td>\n",
       "    </tr>\n",
       "    <tr>\n",
       "      <th>2</th>\n",
       "      <td>七</td>\n",
       "      <td>なな</td>\n",
       "      <td>Seven</td>\n",
       "      <td>コウイチのラッキーナンバーは七です。</td>\n",
       "      <td>Koichi's lucky number is seven.</td>\n",
       "    </tr>\n",
       "    <tr>\n",
       "      <th>3</th>\n",
       "      <td>七つ</td>\n",
       "      <td>ななつ</td>\n",
       "      <td>Seven Things</td>\n",
       "      <td>そのクッキー、七つ下さい。</td>\n",
       "      <td>Seven of those cookies, please.</td>\n",
       "    </tr>\n",
       "    <tr>\n",
       "      <th>4</th>\n",
       "      <td>九</td>\n",
       "      <td>きゅう</td>\n",
       "      <td>Nine</td>\n",
       "      <td>ガソリンスタンドまで九マイルです。</td>\n",
       "      <td>It is nine miles to the gas station.</td>\n",
       "    </tr>\n",
       "    <tr>\n",
       "      <th>...</th>\n",
       "      <td>...</td>\n",
       "      <td>...</td>\n",
       "      <td>...</td>\n",
       "      <td>...</td>\n",
       "      <td>...</td>\n",
       "    </tr>\n",
       "    <tr>\n",
       "      <th>1050</th>\n",
       "      <td>十分</td>\n",
       "      <td>じゅうぶん</td>\n",
       "      <td>Enough</td>\n",
       "      <td>あなたは十分がんばりました！</td>\n",
       "      <td>You have worked hard enough!</td>\n",
       "    </tr>\n",
       "    <tr>\n",
       "      <th>1051</th>\n",
       "      <td>一ヶ月</td>\n",
       "      <td>いっかげつ</td>\n",
       "      <td>One Month</td>\n",
       "      <td>クリスマスまであと一ヶ月ですね！</td>\n",
       "      <td>It's one more month until Christmas!</td>\n",
       "    </tr>\n",
       "    <tr>\n",
       "      <th>1052</th>\n",
       "      <td>〜ヶ月</td>\n",
       "      <td>かげつ</td>\n",
       "      <td>Counter For Months</td>\n",
       "      <td>日本の学校の夏休みは一ヶ月しかありません。</td>\n",
       "      <td>Japanese schools only have one month of summer...</td>\n",
       "    </tr>\n",
       "    <tr>\n",
       "      <th>1053</th>\n",
       "      <td>十分間</td>\n",
       "      <td>じゅっぷんかん</td>\n",
       "      <td>Ten Minutes</td>\n",
       "      <td>ここで十分間休みましょう。</td>\n",
       "      <td>Let's rest here for ten minutes.</td>\n",
       "    </tr>\n",
       "    <tr>\n",
       "      <th>1054</th>\n",
       "      <td>一ヶ所</td>\n",
       "      <td>いっかしょ</td>\n",
       "      <td>One Place</td>\n",
       "      <td>テストで一ヶ所だけミスをしてしまった。</td>\n",
       "      <td>I made just one mistake on the test.</td>\n",
       "    </tr>\n",
       "  </tbody>\n",
       "</table>\n",
       "<p>1055 rows × 5 columns</p>\n",
       "</div>"
      ],
      "text/plain": [
       "     vocabulary vocab_furigana             meaning       context_sentence  \\\n",
       "0             一             いち                 One  このレモン、一キログラム！？大きいですね！   \n",
       "1            一つ            ひとつ           One Thing             レモン、一つ下さい。   \n",
       "2             七             なな               Seven     コウイチのラッキーナンバーは七です。   \n",
       "3            七つ            ななつ        Seven Things          そのクッキー、七つ下さい。   \n",
       "4             九            きゅう                Nine      ガソリンスタンドまで九マイルです。   \n",
       "...         ...            ...                 ...                    ...   \n",
       "1050         十分          じゅうぶん              Enough         あなたは十分がんばりました！   \n",
       "1051        一ヶ月          いっかげつ           One Month       クリスマスまであと一ヶ月ですね！   \n",
       "1052        〜ヶ月            かげつ  Counter For Months  日本の学校の夏休みは一ヶ月しかありません。   \n",
       "1053        十分間        じゅっぷんかん         Ten Minutes          ここで十分間休みましょう。   \n",
       "1054        一ヶ所          いっかしょ           One Place    テストで一ヶ所だけミスをしてしまった。   \n",
       "\n",
       "                               contenxt_setence_meaning  \n",
       "0            This lemon weighs a kilogram!? That's big!  \n",
       "1                                      A lemon, please.  \n",
       "2                       Koichi's lucky number is seven.  \n",
       "3                       Seven of those cookies, please.  \n",
       "4                  It is nine miles to the gas station.  \n",
       "...                                                 ...  \n",
       "1050                       You have worked hard enough!  \n",
       "1051               It's one more month until Christmas!  \n",
       "1052  Japanese schools only have one month of summer...  \n",
       "1053                   Let's rest here for ten minutes.  \n",
       "1054               I made just one mistake on the test.  \n",
       "\n",
       "[1055 rows x 5 columns]"
      ]
     },
     "execution_count": 270,
     "metadata": {},
     "output_type": "execute_result"
    }
   ],
   "source": [
    "df = pd.DataFrame(data, columns=columns)\n",
    "df"
   ]
  },
  {
   "cell_type": "code",
   "execution_count": null,
   "id": "21286e16-accc-45ee-900c-2f2462524aa0",
   "metadata": {},
   "outputs": [],
   "source": [
    "pd.to_csv('data.csv', index=False)"
   ]
  },
  {
   "cell_type": "code",
   "execution_count": 208,
   "id": "81befff9-a575-4e50-ab0f-f6995533642f",
   "metadata": {},
   "outputs": [],
   "source": [
    "assignments = wk_api.assignments(subject_types=\"vocabulary\", unlocked=True, fetch_all=True)"
   ]
  },
  {
   "cell_type": "code",
   "execution_count": 215,
   "id": "580c2e5b-a532-4702-8bc0-a475d59a4eaf",
   "metadata": {},
   "outputs": [],
   "source": [
    "# data = []\n",
    "\n",
    "# for vocab in assignments:\n",
    "#     vocab = vocab.subject\n",
    "#     info = [vocab.characters, vocab.readings[0].reading, vocab.meanings[0].meaning, vocab.context_sentences[0].japanese, vocab.context_sentences[0].english]\n",
    "\n",
    "#     data.append(info)"
   ]
  },
  {
   "cell_type": "code",
   "execution_count": 240,
   "id": "059c9cd5-451b-4f8d-85c8-a1a9b1155872",
   "metadata": {},
   "outputs": [],
   "source": [
    "vocab = assignments[0].subject"
   ]
  },
  {
   "cell_type": "code",
   "execution_count": 236,
   "id": "63671edb-cc37-4e70-b0a3-7867d9d4b89f",
   "metadata": {},
   "outputs": [],
   "source": [
    "columns = ['vocabulary', 'vocab_furigana', 'meaning', 'context_sentence', 'contenxt_setence_meaning']"
   ]
  },
  {
   "cell_type": "code",
   "execution_count": 237,
   "id": "87376766-1698-4c28-9d3e-f1c591674ce0",
   "metadata": {},
   "outputs": [],
   "source": [
    "data = []\n",
    "\n",
    "info = [vocab.characters, vocab.readings[0].reading, vocab.meanings[0].meaning, vocab.context_sentences[0].japanese, vocab.context_sentences[0].english]\n",
    "\n",
    "data.append(info)"
   ]
  },
  {
   "cell_type": "code",
   "execution_count": 238,
   "id": "64f1b2d7-36a1-4bfe-8b51-3e3f1abcdec6",
   "metadata": {},
   "outputs": [
    {
     "data": {
      "text/html": [
       "<div>\n",
       "<style scoped>\n",
       "    .dataframe tbody tr th:only-of-type {\n",
       "        vertical-align: middle;\n",
       "    }\n",
       "\n",
       "    .dataframe tbody tr th {\n",
       "        vertical-align: top;\n",
       "    }\n",
       "\n",
       "    .dataframe thead th {\n",
       "        text-align: right;\n",
       "    }\n",
       "</style>\n",
       "<table border=\"1\" class=\"dataframe\">\n",
       "  <thead>\n",
       "    <tr style=\"text-align: right;\">\n",
       "      <th></th>\n",
       "      <th>vocabulary</th>\n",
       "      <th>vocab_furigana</th>\n",
       "      <th>meaning</th>\n",
       "      <th>context_sentence</th>\n",
       "      <th>contenxt_setence_meaning</th>\n",
       "    </tr>\n",
       "  </thead>\n",
       "  <tbody>\n",
       "    <tr>\n",
       "      <th>0</th>\n",
       "      <td>山</td>\n",
       "      <td>やま</td>\n",
       "      <td>Mountain</td>\n",
       "      <td>これは人工の山だ。</td>\n",
       "      <td>This is an artificial mountain.</td>\n",
       "    </tr>\n",
       "  </tbody>\n",
       "</table>\n",
       "</div>"
      ],
      "text/plain": [
       "  vocabulary vocab_furigana   meaning context_sentence  \\\n",
       "0          山             やま  Mountain        これは人工の山だ。   \n",
       "\n",
       "          contenxt_setence_meaning  \n",
       "0  This is an artificial mountain.  "
      ]
     },
     "execution_count": 238,
     "metadata": {},
     "output_type": "execute_result"
    }
   ],
   "source": [
    "df = pd.DataFrame(data, columns=columns)\n",
    "df"
   ]
  },
  {
   "cell_type": "code",
   "execution_count": 242,
   "id": "cf4d0de1-7b1c-41f0-9fb9-0be7194ce5d8",
   "metadata": {},
   "outputs": [
    {
     "data": {
      "text/plain": [
       "2504"
      ]
     },
     "execution_count": 242,
     "metadata": {},
     "output_type": "execute_result"
    }
   ],
   "source": [
    "id = assignments[0].subject.id\n",
    "id"
   ]
  },
  {
   "cell_type": "code",
   "execution_count": 249,
   "id": "9330de00-3026-4b97-b372-139e6ff981ac",
   "metadata": {},
   "outputs": [],
   "source": [
    "vocabulary = wk_api.subjects(types=\"vocabulary\", ids = [2504], fetch_all=True)"
   ]
  },
  {
   "cell_type": "code",
   "execution_count": 256,
   "id": "1faf605b-3e04-44dc-94ac-bce60ee567ab",
   "metadata": {},
   "outputs": [],
   "source": [
    "vocab = vocabulary[0]"
   ]
  },
  {
   "cell_type": "code",
   "execution_count": 253,
   "id": "15906efe-f6c8-45b1-a939-5f0521ec6832",
   "metadata": {},
   "outputs": [],
   "source": [
    "data = []\n",
    "\n",
    "info = [vocab.characters, vocab.readings[0].reading, vocab.meanings[0].meaning, vocab.context_sentences[0].japanese, vocab.context_sentences[0].english]\n",
    "\n",
    "data.append(info)"
   ]
  },
  {
   "cell_type": "code",
   "execution_count": 254,
   "id": "3bc63baa-d622-4c4f-9a03-2c4c8f9ff708",
   "metadata": {},
   "outputs": [
    {
     "data": {
      "text/html": [
       "<div>\n",
       "<style scoped>\n",
       "    .dataframe tbody tr th:only-of-type {\n",
       "        vertical-align: middle;\n",
       "    }\n",
       "\n",
       "    .dataframe tbody tr th {\n",
       "        vertical-align: top;\n",
       "    }\n",
       "\n",
       "    .dataframe thead th {\n",
       "        text-align: right;\n",
       "    }\n",
       "</style>\n",
       "<table border=\"1\" class=\"dataframe\">\n",
       "  <thead>\n",
       "    <tr style=\"text-align: right;\">\n",
       "      <th></th>\n",
       "      <th>vocabulary</th>\n",
       "      <th>vocab_furigana</th>\n",
       "      <th>meaning</th>\n",
       "      <th>context_sentence</th>\n",
       "      <th>contenxt_setence_meaning</th>\n",
       "    </tr>\n",
       "  </thead>\n",
       "  <tbody>\n",
       "    <tr>\n",
       "      <th>0</th>\n",
       "      <td>山</td>\n",
       "      <td>やま</td>\n",
       "      <td>Mountain</td>\n",
       "      <td>これは人工の山だ。</td>\n",
       "      <td>This is an artificial mountain.</td>\n",
       "    </tr>\n",
       "  </tbody>\n",
       "</table>\n",
       "</div>"
      ],
      "text/plain": [
       "  vocabulary vocab_furigana   meaning context_sentence  \\\n",
       "0          山             やま  Mountain        これは人工の山だ。   \n",
       "\n",
       "          contenxt_setence_meaning  \n",
       "0  This is an artificial mountain.  "
      ]
     },
     "execution_count": 254,
     "metadata": {},
     "output_type": "execute_result"
    }
   ],
   "source": [
    "df = pd.DataFrame(data, columns=columns)\n",
    "df"
   ]
  },
  {
   "cell_type": "code",
   "execution_count": 257,
   "id": "59194b70-8be3-4cd9-a766-42659d3dcdd8",
   "metadata": {},
   "outputs": [
    {
     "data": {
      "text/plain": [
       "990"
      ]
     },
     "execution_count": 257,
     "metadata": {},
     "output_type": "execute_result"
    }
   ],
   "source": [
    "assignments = wk_api.assignments(subject_types=\"vocabulary\", unlocked=True, fetch_all=True)"
   ]
  },
  {
   "cell_type": "code",
   "execution_count": 262,
   "id": "3949edbc-c0d3-4145-822b-a010f7d6755e",
   "metadata": {},
   "outputs": [
    {
     "data": {
      "text/plain": [
       "2504"
      ]
     },
     "execution_count": 262,
     "metadata": {},
     "output_type": "execute_result"
    }
   ],
   "source": [
    "dir(assignments[0].subject.id)\n",
    "assignments[0].subject.id"
   ]
  },
  {
   "cell_type": "code",
   "execution_count": 266,
   "id": "8ce43e6a-56bf-48ee-9770-1aac3559bafe",
   "metadata": {},
   "outputs": [
    {
     "data": {
      "text/plain": [
       "3217"
      ]
     },
     "execution_count": 266,
     "metadata": {},
     "output_type": "execute_result"
    }
   ],
   "source": [
    "assignments[989].subject.id"
   ]
  },
  {
   "cell_type": "code",
   "execution_count": null,
   "id": "ed9702bc-61f1-4e57-960a-5a0e3a6931ad",
   "metadata": {},
   "outputs": [],
   "source": []
  }
 ],
 "metadata": {
  "kernelspec": {
   "display_name": "Python 3 (ipykernel)",
   "language": "python",
   "name": "python3"
  },
  "language_info": {
   "codemirror_mode": {
    "name": "ipython",
    "version": 3
   },
   "file_extension": ".py",
   "mimetype": "text/x-python",
   "name": "python",
   "nbconvert_exporter": "python",
   "pygments_lexer": "ipython3",
   "version": "3.10.12"
  }
 },
 "nbformat": 4,
 "nbformat_minor": 5
}
